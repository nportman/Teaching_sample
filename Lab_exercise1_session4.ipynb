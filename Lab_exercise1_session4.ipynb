{
 "cells": [
  {
   "cell_type": "markdown",
   "metadata": {},
   "source": [
    "### Building simple RNN models"
   ]
  },
  {
   "cell_type": "code",
   "execution_count": 270,
   "metadata": {},
   "outputs": [
    {
     "name": "stdout",
     "output_type": "stream",
     "text": [
      "Populating the interactive namespace from numpy and matplotlib\n"
     ]
    },
    {
     "name": "stderr",
     "output_type": "stream",
     "text": [
      "/usr/local/lib/python3.9/site-packages/IPython/core/magics/pylab.py:159: UserWarning: pylab import has clobbered these variables: ['add']\n",
      "`%matplotlib` prevents importing * from pylab and numpy\n",
      "  warn(\"pylab import has clobbered these variables: %s\"  % clobbered +\n"
     ]
    },
    {
     "data": {
      "text/plain": [
       "[<matplotlib.lines.Line2D at 0x12ab9f160>]"
      ]
     },
     "execution_count": 270,
     "metadata": {},
     "output_type": "execute_result"
    },
    {
     "data": {
      "image/png": "[encoded data removed]",
      "text/plain": [
       "<Figure size 432x288 with 1 Axes>"
      ]
     },
     "metadata": {
      "needs_background": "light"
     },
     "output_type": "display_data"
    }
   ],
   "source": [
    "# Consider a sequence dataset in the form of a sine wave. Our task is to predict the next value in the sinewave sequence.\n",
    "# More specifically, given a sequence of 50 numbers belonging to the sine wave, predict the 51st number of the series\n",
    "\n",
    "# Data preparation\n",
    "# The NN expects input data to being the following format:\n",
    "# (number_of_observations) x (length_of_sequence) x (types_of_sequences)\n",
    "# In our case, there is only 1 type of the sequence - the sine wave\n",
    "# The output will be only one value, the 51st element of the sequence\n",
    "\n",
    "%pylab inline\n",
    "import math\n",
    "import matplotlib.pyplot as plt\n",
    "sin_wave=np.array([math.sin(x) for x in np.arange(200)])\n",
    "plt.plot(sin_wave[:50])"
   ]
  },
  {
   "cell_type": "code",
   "execution_count": 272,
   "metadata": {},
   "outputs": [],
   "source": [
    "# set the first 50 observations as our validation data\n",
    "# train on the other 150 observations\n",
    "# Define the parameters of RNN model\n",
    "X = []\n",
    "Y = []\n",
    "\n",
    "seq_len = 50\n",
    "num_records = len(sin_wave)-seq_len\n",
    "\n",
    "for i in range(num_records-50):\n",
    "    X.append(sin_wave[i:i+seq_len])\n",
    "    Y.append(sin_wave[i+seq_len])\n",
    "\n",
    "X= np.array(X)\n",
    "X=np.expand_dims(X, axis=2)\n",
    "\n",
    "Y=np.array(Y)\n",
    "Y=np.expand_dims(Y, axis=1)"
   ]
  },
  {
   "cell_type": "code",
   "execution_count": 288,
   "metadata": {},
   "outputs": [
    {
     "data": {
      "text/plain": [
       "(100, 50, 1)"
      ]
     },
     "execution_count": 288,
     "metadata": {},
     "output_type": "execute_result"
    }
   ],
   "source": [
    "np.shape(X)"
   ]
  },
  {
   "cell_type": "code",
   "execution_count": 283,
   "metadata": {},
   "outputs": [],
   "source": [
    "# Create RNN architecture\n",
    "learning_rate = 0.001    \n",
    "nepoch = 60              \n",
    "T = 50                   # length of sequence\n",
    "hidden_dim = 100         \n",
    "output_dim = 1\n",
    "# control for a possibility of an exploding gradient\n",
    "bptt_truncate = 5\n",
    "min_clip_value = -10\n",
    "max_clip_value = 10"
   ]
  },
  {
   "cell_type": "code",
   "execution_count": 257,
   "metadata": {},
   "outputs": [],
   "source": [
    "# create testing dataset\n",
    "X_tst = []\n",
    "Y_tst = []\n",
    "\n",
    "for i in range(num_records - 50, num_records):\n",
    "    X_tst.append(sin_wave[i:i+seq_len])\n",
    "    Y_tst.append(sin_wave[i+seq_len])\n",
    "    \n",
    "X_tst = np.array(X_tst)\n",
    "X_tst = np.expand_dims(X_tst, axis=2)\n",
    "\n",
    "Y_tst = np.array(Y_tst)\n",
    "Y_tst = np.expand_dims(Y_tst, axis=1)"
   ]
  },
  {
   "cell_type": "code",
   "execution_count": 259,
   "metadata": {},
   "outputs": [],
   "source": [
    "# Define initial weights of the RNN\n",
    "# U is the weight matrix for weights between input and hidden layers\n",
    "# V is the weight matrix for weights between hidden and output layers\n",
    "# W is the weight matrix for shared weights in the RNN layer (hidden layer)\n",
    "U = np.random.uniform(0, 1, (hidden_dim, T))\n",
    "W = np.random.uniform(0, 1, (hidden_dim, hidden_dim))\n",
    "V = np.random.uniform(0, 1, (output_dim, hidden_dim))\n"
   ]
  },
  {
   "cell_type": "code",
   "execution_count": 260,
   "metadata": {},
   "outputs": [],
   "source": [
    "# Define the activation function\n",
    "def sigmoid(x):\n",
    "    return 1 / (1+np.exp(-x))"
   ]
  },
  {
   "cell_type": "markdown",
   "metadata": {},
   "source": [
    "###  Model training\n"
   ]
  },
  {
   "cell_type": "code",
   "execution_count": 261,
   "metadata": {},
   "outputs": [],
   "source": [
    "# 1. Forward pass and MSE error calculation\n",
    "for epoch in range(nepoch):\n",
    "    # check loss on train\n",
    "    loss = 0.0\n",
    "    \n",
    "    # do a forward pass to get prediction\n",
    "    for i in range(Y.shape[0]):\n",
    "        x, y = X[i], Y[i]                    # get input, output values of each record\n",
    "        prev_s = np.zeros((hidden_dim, 1))   # here, prev-s is the value of the previous activation of hidden layer; which is initialized as all zeroes\n",
    "        for t in range(T):\n",
    "            new_input = np.zeros(x.shape)    # we then do a forward pass for every timestep in the sequence\n",
    "            new_input[t] = x[t]              # for this, we define a single input for that timestep\n",
    "            mulu = np.dot(U, new_input)\n",
    "            mulw = np.dot(W, prev_s)\n",
    "            add = mulw + mulu\n",
    "            s = sigmoid(add)\n",
    "            mulv = np.dot(V, s)\n",
    "            prev_s = s\n",
    "\n",
    "    # calculate error \n",
    "        loss_per_record = (y - mulv)**2 / 2\n",
    "        loss += loss_per_record\n",
    "    loss = loss / float(y.shape[0])"
   ]
  },
  {
   "cell_type": "code",
   "execution_count": 262,
   "metadata": {},
   "outputs": [
    {
     "name": "stdout",
     "output_type": "stream",
     "text": [
      "Epoch:  100 , Loss:  [[121566.96215416]] , tst Loss:  [[60781.53952267]]\n"
     ]
    }
   ],
   "source": [
    "# Calculate loss on testing data\n",
    "tst_loss = 0.0\n",
    "for i in range(Y_tst.shape[0]):\n",
    "    x, y = X_tst[i], Y_tst[i]\n",
    "    prev_s = np.zeros((hidden_dim, 1))\n",
    "    for t in range(T):\n",
    "        new_input = np.zeros(x.shape)\n",
    "        new_input[t] = x[t]\n",
    "        mulu = np.dot(U, new_input)\n",
    "        mulw = np.dot(W, prev_s)\n",
    "        add = mulw + mulu\n",
    "        s = sigmoid(add)\n",
    "        mulv = np.dot(V, s)\n",
    "        prev_s = s\n",
    "\n",
    "    loss_per_record = (y - mulv)**2 / 2\n",
    "    tst_loss += loss_per_record\n",
    "tst_loss = tst_loss / float(y.shape[0])\n",
    "\n",
    "print('Epoch: ', epoch + 1, ', Loss: ', loss, ', tst Loss: ', tst_loss)"
   ]
  },
  {
   "cell_type": "code",
   "execution_count": 263,
   "metadata": {},
   "outputs": [],
   "source": [
    "# Start actual training\n",
    "# train model\n",
    "for i in range(Y.shape[0]):\n",
    "    x, y = X[i], Y[i] # individual time staps\n",
    "\n",
    "    layers = []\n",
    "    prev_s = np.zeros((hidden_dim, 1))\n",
    "    dU = np.zeros(U.shape)# gradient initialization\n",
    "    dV = np.zeros(V.shape)\n",
    "    dW = np.zeros(W.shape)\n",
    "\n",
    "    dU_t = np.zeros(U.shape)\n",
    "    dV_t = np.zeros(V.shape)\n",
    "    dW_t = np.zeros(W.shape)\n",
    "\n",
    "    dU_i = np.zeros(U.shape)\n",
    "    dW_i = np.zeros(W.shape)\n",
    "\n",
    "    # forward pass\n",
    "    for t in range(T):\n",
    "        new_input = np.zeros(x.shape)\n",
    "        new_input[t] = x[t]\n",
    "        mulu = np.dot(U, new_input)\n",
    "        mulw = np.dot(W, prev_s)\n",
    "        add = mulw + mulu\n",
    "        s = sigmoid(add)\n",
    "        mulv = np.dot(V, s)\n",
    "        layers.append({'s':s, 'prev_s':prev_s})\n",
    "        prev_s = s"
   ]
  },
  {
   "cell_type": "code",
   "execution_count": 264,
   "metadata": {},
   "outputs": [],
   "source": [
    "#Truncated error backpropagation\n",
    "\n",
    "# derivative of pred\n",
    "dmulv = (mulv - y)\n",
    "\n",
    "# backward pass\n",
    "for t in range(T):\n",
    "    dV_t = np.dot(dmulv, np.transpose(layers[t]['s']))\n",
    "    dsv = np.dot(np.transpose(V), dmulv)\n",
    "\n",
    "    ds = dsv\n",
    "    dadd = add * (1 - add) * ds\n",
    "\n",
    "    dmulw = dadd * np.ones_like(mulw)\n",
    "\n",
    "    dprev_s = np.dot(np.transpose(W), dmulw)\n",
    "\n",
    "\n",
    "    for i in range(t-1, max(-1, t-bptt_truncate-1), -1):\n",
    "        ds = dsv + dprev_s\n",
    "        dadd = add * (1 - add) * ds\n",
    "\n",
    "        dmulw = dadd * np.ones_like(mulw)\n",
    "        dmulu = dadd * np.ones_like(mulu)\n",
    "\n",
    "        dW_i = np.dot(W, layers[t]['prev_s'])\n",
    "        dprev_s = np.dot(np.transpose(W), dmulw)\n",
    "\n",
    "        new_input = np.zeros(x.shape)\n",
    "        new_input[t] = x[t]\n",
    "        dU_i = np.dot(U, new_input)\n",
    "        dx = np.dot(np.transpose(U), dmulu)\n",
    "\n",
    "        dU_t += dU_i\n",
    "        dW_t += dW_i\n",
    "\n",
    "    dV += dV_t\n",
    "    dU += dU_t\n",
    "    dW += dW_t"
   ]
  },
  {
   "cell_type": "code",
   "execution_count": 265,
   "metadata": {},
   "outputs": [],
   "source": [
    "# weight update\n",
    "# clamp gradients\n",
    "if dU.max() > max_clip_value:\n",
    "    dU[dU > max_clip_value] = max_clip_value\n",
    "if dV.max() > max_clip_value:\n",
    "    dV[dV > max_clip_value] = max_clip_value\n",
    "if dW.max() > max_clip_value:\n",
    "    dW[dW > max_clip_value] = max_clip_value\n",
    "\n",
    "\n",
    "if dU.min() < min_clip_value:\n",
    "    dU[dU < min_clip_value] = min_clip_value\n",
    "if dV.min() < min_clip_value:\n",
    "    dV[dV < min_clip_value] = min_clip_value\n",
    "if dW.min() < min_clip_value:\n",
    "    dW[dW < min_clip_value] = min_clip_value\n",
    "\n",
    "# update\n",
    "U -= learning_rate * dU\n",
    "V -= learning_rate * dV\n",
    "W -= learning_rate * dW"
   ]
  },
  {
   "cell_type": "code",
   "execution_count": 289,
   "metadata": {
    "scrolled": true
   },
   "outputs": [
    {
     "name": "stdout",
     "output_type": "stream",
     "text": [
      "Epoch:  1 , Loss:  [[4928.45813567]] , tst Loss:  [[1994.37995754]]\n",
      "Epoch:  2 , Loss:  [[3988.1521033]] , tst Loss:  [[1574.18836399]]\n",
      "Epoch:  3 , Loss:  [[3147.84607101]] , tst Loss:  [[1203.99677055]]\n",
      "Epoch:  4 , Loss:  [[2407.54003895]] , tst Loss:  [[883.8051774]]\n",
      "Epoch:  5 , Loss:  [[1767.23400745]] , tst Loss:  [[613.61358494]]\n",
      "Epoch:  6 , Loss:  [[1226.92797736]] , tst Loss:  [[393.42199409]]\n",
      "Epoch:  7 , Loss:  [[786.62195047]] , tst Loss:  [[223.23040654]]\n",
      "Epoch:  8 , Loss:  [[446.31593019]] , tst Loss:  [[103.03882445]]\n",
      "Epoch:  9 , Loss:  [[206.00992081]] , tst Loss:  [[32.84724573]]\n",
      "Epoch:  10 , Loss:  [[65.70391818]] , tst Loss:  [[14.39134846]]\n",
      "Epoch:  11 , Loss:  [[28.84021731]] , tst Loss:  [[53.41621398]]\n",
      "Epoch:  12 , Loss:  [[106.81279368]] , tst Loss:  [[28.31817217]]\n",
      "Epoch:  13 , Loss:  [[56.65398876]] , tst Loss:  [[49.43669779]]\n",
      "Epoch:  14 , Loss:  [[98.85868261]] , tst Loss:  [[17.89985836]]\n",
      "Epoch:  15 , Loss:  [[35.84278137]] , tst Loss:  [[66.3087191]]\n",
      "Epoch:  16 , Loss:  [[132.58335769]] , tst Loss:  [[17.92521663]]\n",
      "Epoch:  17 , Loss:  [[35.8934845]] , tst Loss:  [[66.44539358]]\n",
      "Epoch:  18 , Loss:  [[132.85674404]] , tst Loss:  [[18.10541083]]\n",
      "Epoch:  19 , Loss:  [[36.25374776]] , tst Loss:  [[67.32718425]]\n",
      "Epoch:  20 , Loss:  [[134.62027168]] , tst Loss:  [[19.07130136]]\n",
      "Epoch:  21 , Loss:  [[38.18472931]] , tst Loss:  [[70.57495349]]\n",
      "Epoch:  22 , Loss:  [[141.11840403]] , tst Loss:  [[21.3256711]]\n",
      "Epoch:  23 , Loss:  [[42.68854372]] , tst Loss:  [[74.82849858]]\n",
      "Epoch:  24 , Loss:  [[149.62950033]] , tst Loss:  [[23.1901014]]\n",
      "Epoch:  25 , Loss:  [[46.40403138]] , tst Loss:  [[74.22194175]]\n",
      "Epoch:  26 , Loss:  [[148.44715452]] , tst Loss:  [[22.45836984]]\n",
      "Epoch:  27 , Loss:  [[44.94266362]] , tst Loss:  [[61.99074451]]\n",
      "Epoch:  28 , Loss:  [[123.96124251]] , tst Loss:  [[32.33861579]]\n",
      "Epoch:  29 , Loss:  [[64.69537144]] , tst Loss:  [[76.12799648]]\n",
      "Epoch:  30 , Loss:  [[152.24738547]] , tst Loss:  [[21.38354035]]\n",
      "Epoch:  31 , Loss:  [[42.81217245]] , tst Loss:  [[63.45341435]]\n",
      "Epoch:  32 , Loss:  [[126.8916456]] , tst Loss:  [[25.90720003]]\n",
      "Epoch:  33 , Loss:  [[51.8446179]] , tst Loss:  [[62.45270547]]\n",
      "Epoch:  34 , Loss:  [[124.88792928]] , tst Loss:  [[20.28503517]]\n",
      "Epoch:  35 , Loss:  [[40.58562147]] , tst Loss:  [[60.78151229]]\n",
      "Epoch:  36 , Loss:  [[121.55324712]] , tst Loss:  [[39.93220303]]\n",
      "Epoch:  37 , Loss:  [[79.88054922]] , tst Loss:  [[44.32261716]]\n",
      "Epoch:  38 , Loss:  [[88.63426521]] , tst Loss:  [[52.72447209]]\n",
      "Epoch:  39 , Loss:  [[105.4366393]] , tst Loss:  [[32.29348924]]\n",
      "Epoch:  40 , Loss:  [[64.62230262]] , tst Loss:  [[78.86754933]]\n",
      "Epoch:  41 , Loss:  [[157.69616156]] , tst Loss:  [[37.40940273]]\n",
      "Epoch:  42 , Loss:  [[74.84046731]] , tst Loss:  [[58.08449003]]\n",
      "Epoch:  43 , Loss:  [[116.14279422]] , tst Loss:  [[40.55871646]]\n",
      "Epoch:  44 , Loss:  [[81.12475861]] , tst Loss:  [[24.60347817]]\n",
      "Epoch:  45 , Loss:  [[49.23131261]] , tst Loss:  [[43.89223297]]\n",
      "Epoch:  46 , Loss:  [[87.74638072]] , tst Loss:  [[25.34227119]]\n",
      "Epoch:  47 , Loss:  [[50.68435929]] , tst Loss:  [[37.42893412]]\n",
      "Epoch:  48 , Loss:  [[74.85245463]] , tst Loss:  [[49.05438746]]\n",
      "Epoch:  49 , Loss:  [[98.09975826]] , tst Loss:  [[33.28285408]]\n",
      "Epoch:  50 , Loss:  [[66.5844829]] , tst Loss:  [[46.61925247]]\n",
      "Epoch:  51 , Loss:  [[93.22751469]] , tst Loss:  [[41.91948668]]\n",
      "Epoch:  52 , Loss:  [[83.83559083]] , tst Loss:  [[25.63993287]]\n",
      "Epoch:  53 , Loss:  [[51.29528174]] , tst Loss:  [[33.90477434]]\n",
      "Epoch:  54 , Loss:  [[67.81110403]] , tst Loss:  [[38.53229682]]\n",
      "Epoch:  55 , Loss:  [[77.06328656]] , tst Loss:  [[27.19022284]]\n",
      "Epoch:  56 , Loss:  [[54.39620076]] , tst Loss:  [[29.39262064]]\n",
      "Epoch:  57 , Loss:  [[58.79029248]] , tst Loss:  [[39.8055929]]\n",
      "Epoch:  58 , Loss:  [[79.58481662]] , tst Loss:  [[35.5542539]]\n",
      "Epoch:  59 , Loss:  [[71.09308861]] , tst Loss:  [[28.25654686]]\n",
      "Epoch:  60 , Loss:  [[56.52885083]] , tst Loss:  [[31.76705329]]\n"
     ]
    }
   ],
   "source": [
    "# Put all modules together\n",
    "\n",
    "for epoch in range(nepoch):\n",
    "    # check loss on train\n",
    "    loss = 0.0\n",
    "    # do a forward pass to get prediction\n",
    "    for i in range(Y.shape[0]):\n",
    "        x, y = X[i], Y[i] # get input, output values of each record\n",
    "        prev_s = np.zeros((hidden_dim, 1))   # here, prev-s is the value of the previous activation of hidden layer; which is initialized as all zeroes\n",
    "        for t in range(T):\n",
    "            new_input = np.zeros(x.shape)    # we then do a forward pass for every timestep in the sequence\n",
    "            new_input[t] = x[t]              # for this, we define a single input for that timestep\n",
    "            mulu = np.dot(U, new_input)\n",
    "            mulw = np.dot(W, prev_s)\n",
    "            add = mulw + mulu\n",
    "            s = sigmoid(add)\n",
    "            mulv = np.dot(V, s)\n",
    "            prev_s = s\n",
    "\n",
    "    # calculate error \n",
    "        loss_per_record = (y - mulv)**2 / 2\n",
    "        loss += loss_per_record\n",
    "    loss = loss / float(y.shape[0])\n",
    "    #__________________________________\n",
    "   \n",
    "    # derivative of pred\n",
    "    dmulv = (mulv - y)\n",
    "\n",
    "    # backward pass\n",
    "    for t in range(T):\n",
    "        dV_t = np.dot(dmulv, np.transpose(layers[t]['s']))\n",
    "        dsv = np.dot(np.transpose(V), dmulv)\n",
    "\n",
    "        ds = dsv\n",
    "        dadd = add * (1 - add) * ds\n",
    "\n",
    "        dmulw = dadd * np.ones_like(mulw)\n",
    "\n",
    "        dprev_s = np.dot(np.transpose(W), dmulw)\n",
    "\n",
    "\n",
    "        for i in range(t-1, max(-1, t-bptt_truncate-1), -1):\n",
    "            ds = dsv + dprev_s\n",
    "            dadd = add * (1 - add) * ds\n",
    "\n",
    "            dmulw = dadd * np.ones_like(mulw)\n",
    "            dmulu = dadd * np.ones_like(mulu)\n",
    "\n",
    "            dW_i = np.dot(W, layers[t]['prev_s'])\n",
    "            dprev_s = np.dot(np.transpose(W), dmulw)\n",
    "\n",
    "            new_input = np.zeros(x.shape)\n",
    "            new_input[t] = x[t]\n",
    "            dU_i = np.dot(U, new_input)\n",
    "            dx = np.dot(np.transpose(U), dmulu)\n",
    "\n",
    "            dU_t += dU_i\n",
    "            dW_t += dW_i\n",
    "\n",
    "        dV += dV_t\n",
    "        dU += dU_t\n",
    "        dW += dW_t\n",
    "    #___________________________________________\n",
    "    # weight update\n",
    "    # clamp gradients\n",
    "    if dU.max() > max_clip_value:\n",
    "        dU[dU > max_clip_value] = max_clip_value\n",
    "    if dV.max() > max_clip_value:\n",
    "        dV[dV > max_clip_value] = max_clip_value\n",
    "    if dW.max() > max_clip_value:\n",
    "        dW[dW > max_clip_value] = max_clip_value\n",
    "\n",
    "\n",
    "    if dU.min() < min_clip_value:\n",
    "        dU[dU < min_clip_value] = min_clip_value\n",
    "    if dV.min() < min_clip_value:\n",
    "        dV[dV < min_clip_value] = min_clip_value\n",
    "    if dW.min() < min_clip_value:\n",
    "        dW[dW < min_clip_value] = min_clip_value\n",
    "\n",
    "    # update\n",
    "    U -= learning_rate * dU\n",
    "    V -= learning_rate * dV\n",
    "    W -= learning_rate * dW\n",
    "    #   loss on testing data    \n",
    "#___________________________________________\n",
    "    tst_loss = 0.0\n",
    "    for i in range(Y_tst.shape[0]):\n",
    "        x, y = X_tst[i], Y_tst[i]\n",
    "        prev_s = np.zeros((hidden_dim, 1))\n",
    "        for t in range(T):\n",
    "            new_input = np.zeros(x.shape)\n",
    "            new_input[t] = x[t]\n",
    "            mulu = np.dot(U, new_input)\n",
    "            mulw = np.dot(W, prev_s)\n",
    "            add = mulw + mulu\n",
    "            s = sigmoid(add)\n",
    "            mulv = np.dot(V, s)\n",
    "            prev_s = s\n",
    "\n",
    "        loss_per_record = (y - mulv)**2 / 2\n",
    "        tst_loss += loss_per_record\n",
    "    tst_loss = tst_loss / float(y.shape[0])\n",
    "#_____________________________________________\n",
    "   \n",
    "#___________________________________________\n",
    "    print('Epoch: ', epoch + 1, ', Loss: ', loss, ', tst Loss: ', tst_loss)    "
   ]
  },
  {
   "cell_type": "code",
   "execution_count": 290,
   "metadata": {},
   "outputs": [],
   "source": [
    "# Get predictions on training dataset\n",
    "preds = []\n",
    "for i in range(Y.shape[0]):\n",
    "    x, y = X[i], Y[i]\n",
    "    prev_s = np.zeros((hidden_dim, 1))\n",
    "    # Forward pass\n",
    "    for t in range(T):\n",
    "        mulu = np.dot(U, x)\n",
    "        mulw = np.dot(W, prev_s)\n",
    "        add = mulw + mulu\n",
    "        s = sigmoid(add)\n",
    "        mulv = np.dot(V, s)\n",
    "        prev_s = s\n",
    "\n",
    "    preds.append(mulv)\n",
    "    \n",
    "preds = np.array(preds)"
   ]
  },
  {
   "cell_type": "code",
   "execution_count": 291,
   "metadata": {},
   "outputs": [
    {
     "data": {
      "image/png": "[encoded data removed]",
      "text/plain": [
       "<Figure size 432x288 with 1 Axes>"
      ]
     },
     "metadata": {
      "needs_background": "light"
     },
     "output_type": "display_data"
    }
   ],
   "source": [
    "plt.plot(preds[:,0,0],'g')\n",
    "plt.plot(Y[:,0],'r')\n",
    "plt.title(\"Predictions versus the actual values on the training data\")\n",
    "plt.show()"
   ]
  },
  {
   "cell_type": "code",
   "execution_count": 269,
   "metadata": {},
   "outputs": [
    {
     "data": {
      "image/png": "[encoded data removed]",
      "text/plain": [
       "<Figure size 432x288 with 1 Axes>"
      ]
     },
     "metadata": {
      "needs_background": "light"
     },
     "output_type": "display_data"
    }
   ],
   "source": [
    "# Check if our model is not an overfit\n",
    "preds = []\n",
    "for i in range(Y_tst.shape[0]):\n",
    "    x, y = X_tst[i], Y_tst[i]\n",
    "    prev_s = np.zeros((hidden_dim, 1))\n",
    "    # For each time step...\n",
    "    for t in range(T):\n",
    "        mulu = np.dot(U, x)\n",
    "        mulw = np.dot(W, prev_s)\n",
    "        add = mulw + mulu\n",
    "        s = sigmoid(add)\n",
    "        mulv = np.dot(V, s)\n",
    "        prev_s = s\n",
    "\n",
    "    preds.append(mulv)\n",
    "    \n",
    "preds = np.array(preds)\n",
    "\n",
    "plt.plot(preds[:, 0, 0], 'g')\n",
    "plt.plot(Y_tst[:, 0], 'r')\n",
    "plt.show()"
   ]
  },
  {
   "cell_type": "markdown",
   "metadata": {},
   "source": [
    "###  Task 1"
   ]
  },
  {
   "cell_type": "code",
   "execution_count": null,
   "metadata": {},
   "outputs": [],
   "source": [
    "# 1. Using the same sine wave sequence, experiment with the RNN parameter setup and build your own RNN model\n",
    "# 2. Has you model been learning during training process? How can you tell?\n",
    "# 3. Does your model improve the prediction result obtained in class? Whether it improves the result or not, plot \n",
    "# the graphs of prediction and actual curves using testing dataset and discuss your result.\n",
    "# 4. How do the gradient constraints influence training? Does increasing lower and upper boundaries in absolute value help RNN learn? \n",
    "# 5. What are the main neuron operations that take place in the feedforward pass of the RNN network?"
   ]
  }
 ],
 "metadata": {
  "kernelspec": {
   "display_name": "Python 3 (ipykernel)",
   "language": "python",
   "name": "python3"
  },
  "language_info": {
   "codemirror_mode": {
    "name": "ipython",
    "version": 3
   },
   "file_extension": ".py",
   "mimetype": "text/x-python",
   "name": "python",
   "nbconvert_exporter": "python",
   "pygments_lexer": "ipython3",
   "version": "3.10.12"
  }
 },
 "nbformat": 4,
 "nbformat_minor": 4
}
